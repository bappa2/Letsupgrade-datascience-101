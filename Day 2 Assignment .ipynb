{
 "cells": [
  {
   "cell_type": "markdown",
   "metadata": {},
   "source": [
    "# Question 1"
   ]
  },
  {
   "cell_type": "code",
   "execution_count": 1,
   "metadata": {},
   "outputs": [
    {
     "name": "stdout",
     "output_type": "stream",
     "text": [
      "\n",
      "Enter the value : 1\n",
      "\n",
      "Enter the value : 2\n",
      "\n",
      "Enter the value : 3\n",
      "\n",
      "Enter the value : 4\n",
      "\n",
      "Enter the value : 5\n",
      "\n",
      "Enter the value : 6\n",
      "\n",
      "Enter the value : 7\n",
      "\n",
      "Enter the value : 8\n",
      "\n",
      "Enter the value : 9\n",
      "\n",
      "Enter the value : 10\n",
      "\n",
      "The even list [2, 4, 6, 8, 10]\n"
     ]
    }
   ],
   "source": [
    "# creating a empty list\n",
    "lst = []\n",
    "\n",
    "\n",
    "# getting 10 values from user\n",
    "for i in range(0,10):\n",
    "    x = int(input(\"\\nEnter the value : \"))\n",
    "    lst.append(x)\n",
    "    \n",
    "# creating a empty list to append event numbers\n",
    "even_lst = []\n",
    "\n",
    "# appending only even numbers\n",
    "for i in lst:\n",
    "    if(i%2==0):\n",
    "        even_lst.append(i)\n",
    "        \n",
    "print(\"\\nThe even list\",even_lst)"
   ]
  },
  {
   "cell_type": "markdown",
   "metadata": {},
   "source": [
    "# Question 2"
   ]
  },
  {
   "cell_type": "code",
   "execution_count": 2,
   "metadata": {},
   "outputs": [
    {
     "name": "stdout",
     "output_type": "stream",
     "text": [
      "[2, 4, 6, 8]\n"
     ]
    }
   ],
   "source": [
    "# creating a list\n",
    "lst = [1, 2, 3, 4, 5, 6, 7, 8]\n",
    "\n",
    "# list comprehensions\n",
    "even_lst = [i for i in lst if i%2==0 ]\n",
    "\n",
    "print(even_lst)"
   ]
  },
  {
   "cell_type": "markdown",
   "metadata": {},
   "source": [
    "# Question 3"
   ]
  },
  {
   "cell_type": "code",
   "execution_count": 3,
   "metadata": {},
   "outputs": [
    {
     "name": "stdout",
     "output_type": "stream",
     "text": [
      "8\n",
      "{1: 1, 2: 4, 3: 9, 4: 16, 5: 25, 6: 36, 7: 49, 8: 64}\n"
     ]
    }
   ],
   "source": [
    "# creating a empty dict\n",
    "dict = {}\n",
    "\n",
    "#  getting value for \"n\" from user\n",
    "n = int(input())\n",
    "\n",
    "for i in range(1,n+1):\n",
    "  dict[i] = i*i\n",
    "\n",
    "print(dict)"
   ]
  },
  {
   "cell_type": "markdown",
   "metadata": {},
   "source": [
    "# Question 4"
   ]
  },
  {
   "cell_type": "code",
   "execution_count": 5,
   "metadata": {},
   "outputs": [
    {
     "name": "stdout",
     "output_type": "stream",
     "text": [
      "4\n",
      "UP 3\n",
      "DOWN 3\n",
      "LEFT 3\n",
      "RIGHT 2\n",
      "1\n"
     ]
    }
   ],
   "source": [
    "#  creating a origin position\n",
    "pos = {\"x\":0,\"y\":0}\n",
    "\n",
    "# getting movement from user\n",
    "n = int(input())\n",
    "\n",
    "# for loop\n",
    "for i in range (n):\n",
    "    move =  input().split(\" \")      \n",
    "    \n",
    "    if move[0].lower() == \"up\":     \n",
    "        pos[\"y\"] += int(move[1])    \n",
    "    \n",
    "    elif move[0].lower() == \"down\":\n",
    "        pos[\"y\"] -= int(move[1])\n",
    "    \n",
    "    elif move[0].lower() == \"left\":\n",
    "        pos[\"x\"] -= int(move[1])\n",
    "    \n",
    "    elif move[0].lower() == \"right\":\n",
    "        pos[\"x\"] += int(move[1])\n",
    "\n",
    "print(int(round((pos[\"x\"]**2 + pos[\"y\"]**2)**0.5)))   "
   ]
  },
  {
   "cell_type": "code",
   "execution_count": null,
   "metadata": {},
   "outputs": [],
   "source": []
  }
 ],
 "metadata": {
  "kernelspec": {
   "display_name": "Python 3",
   "language": "python",
   "name": "python3"
  },
  "language_info": {
   "codemirror_mode": {
    "name": "ipython",
    "version": 3
   },
   "file_extension": ".py",
   "mimetype": "text/x-python",
   "name": "python",
   "nbconvert_exporter": "python",
   "pygments_lexer": "ipython3",
   "version": "3.8.3"
  }
 },
 "nbformat": 4,
 "nbformat_minor": 4
}
