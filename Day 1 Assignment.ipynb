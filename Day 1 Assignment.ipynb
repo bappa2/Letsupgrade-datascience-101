{
 "cells": [
  {
   "cell_type": "markdown",
   "metadata": {},
   "source": [
    "# Question 1"
   ]
  },
  {
   "cell_type": "code",
   "execution_count": 2,
   "metadata": {},
   "outputs": [
    {
     "name": "stdout",
     "output_type": "stream",
     "text": [
      "OBNAWRI is incorrect\n",
      "The correct option is: RAINBOW\n"
     ]
    }
   ],
   "source": [
    "import random\n",
    "\n",
    "def shuffling(given):\n",
    "    given = str(given)\n",
    "    words = ['RAINBOW','RANIBOW','BOWRANI','ROBWANI']\n",
    "    shuffled = ''.join(random.sample(given,len(given)))\n",
    "    if shuffled=='RAINBOW':\n",
    "        return shuffled\n",
    "        print(\"The correct option is: RAINBOW\")\n",
    "    else:\n",
    "        #shuffling(given)\n",
    "        print(shuffled,\"is incorrect\")\n",
    "        print(\"The correct option is: RAINBOW\")\n",
    "shuffling('OBANWRI')\n"
   ]
  },
  {
   "cell_type": "markdown",
   "metadata": {},
   "source": [
    "# Question 2"
   ]
  },
  {
   "cell_type": "code",
   "execution_count": 3,
   "metadata": {},
   "outputs": [
    {
     "name": "stdout",
     "output_type": "stream",
     "text": [
      "LETS UPGRADE\n"
     ]
    }
   ],
   "source": [
    "print(\"LETS UPGRADE\")"
   ]
  },
  {
   "cell_type": "markdown",
   "metadata": {},
   "source": [
    "# Question 3"
   ]
  },
  {
   "cell_type": "code",
   "execution_count": 4,
   "metadata": {},
   "outputs": [
    {
     "name": "stdout",
     "output_type": "stream",
     "text": [
      "100\n",
      "200\n"
     ]
    }
   ],
   "source": [
    "cp = eval(input())\n",
    "sp = eval(input())"
   ]
  },
  {
   "cell_type": "code",
   "execution_count": 5,
   "metadata": {},
   "outputs": [
    {
     "name": "stdout",
     "output_type": "stream",
     "text": [
      "Profit\n"
     ]
    }
   ],
   "source": [
    "if cp < sp:\n",
    "    print(\"Profit\")\n",
    "elif cp > sp:\n",
    "    print(\"Loss\")\n",
    "else:\n",
    "    print(\"Neither\")"
   ]
  },
  {
   "cell_type": "markdown",
   "metadata": {},
   "source": [
    "# Question 4"
   ]
  },
  {
   "cell_type": "code",
   "execution_count": 6,
   "metadata": {},
   "outputs": [
    {
     "name": "stdout",
     "output_type": "stream",
     "text": [
      "20\n",
      "1600\n"
     ]
    }
   ],
   "source": [
    "E = eval(input())\n",
    "R = 80\n",
    "R = E * R\n",
    "print (R)\n"
   ]
  },
  {
   "cell_type": "code",
   "execution_count": null,
   "metadata": {},
   "outputs": [],
   "source": []
  }
 ],
 "metadata": {
  "kernelspec": {
   "display_name": "Python 3",
   "language": "python",
   "name": "python3"
  },
  "language_info": {
   "codemirror_mode": {
    "name": "ipython",
    "version": 3
   },
   "file_extension": ".py",
   "mimetype": "text/x-python",
   "name": "python",
   "nbconvert_exporter": "python",
   "pygments_lexer": "ipython3",
   "version": "3.8.3"
  }
 },
 "nbformat": 4,
 "nbformat_minor": 4
}
